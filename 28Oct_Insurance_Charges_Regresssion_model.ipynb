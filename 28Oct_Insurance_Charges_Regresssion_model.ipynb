{
 "cells": [
  {
   "cell_type": "markdown",
   "id": "3bbd20e9",
   "metadata": {},
   "source": [
    "#### Import the libraries"
   ]
  },
  {
   "cell_type": "code",
   "execution_count": 2,
   "id": "e821f4d9",
   "metadata": {},
   "outputs": [],
   "source": [
    "import pandas as pd\n",
    "import numpy as np\n",
    "import matplotlib.pyplot as plt\n",
    "import seaborn as sns"
   ]
  },
  {
   "cell_type": "markdown",
   "id": "3dad7830",
   "metadata": {},
   "source": [
    "#### Reading the dataset"
   ]
  },
  {
   "cell_type": "code",
   "execution_count": 3,
   "id": "ed06b552",
   "metadata": {},
   "outputs": [
    {
     "data": {
      "text/html": [
       "<div>\n",
       "<style scoped>\n",
       "    .dataframe tbody tr th:only-of-type {\n",
       "        vertical-align: middle;\n",
       "    }\n",
       "\n",
       "    .dataframe tbody tr th {\n",
       "        vertical-align: top;\n",
       "    }\n",
       "\n",
       "    .dataframe thead th {\n",
       "        text-align: right;\n",
       "    }\n",
       "</style>\n",
       "<table border=\"1\" class=\"dataframe\">\n",
       "  <thead>\n",
       "    <tr style=\"text-align: right;\">\n",
       "      <th></th>\n",
       "      <th>age</th>\n",
       "      <th>sex</th>\n",
       "      <th>bmi</th>\n",
       "      <th>children</th>\n",
       "      <th>smoker</th>\n",
       "      <th>region</th>\n",
       "      <th>charges</th>\n",
       "    </tr>\n",
       "  </thead>\n",
       "  <tbody>\n",
       "    <tr>\n",
       "      <th>0</th>\n",
       "      <td>19</td>\n",
       "      <td>female</td>\n",
       "      <td>27.900</td>\n",
       "      <td>0</td>\n",
       "      <td>yes</td>\n",
       "      <td>southwest</td>\n",
       "      <td>16884.92400</td>\n",
       "    </tr>\n",
       "    <tr>\n",
       "      <th>1</th>\n",
       "      <td>18</td>\n",
       "      <td>male</td>\n",
       "      <td>33.770</td>\n",
       "      <td>1</td>\n",
       "      <td>no</td>\n",
       "      <td>southeast</td>\n",
       "      <td>1725.55230</td>\n",
       "    </tr>\n",
       "    <tr>\n",
       "      <th>2</th>\n",
       "      <td>28</td>\n",
       "      <td>male</td>\n",
       "      <td>33.000</td>\n",
       "      <td>3</td>\n",
       "      <td>no</td>\n",
       "      <td>southeast</td>\n",
       "      <td>4449.46200</td>\n",
       "    </tr>\n",
       "    <tr>\n",
       "      <th>3</th>\n",
       "      <td>33</td>\n",
       "      <td>male</td>\n",
       "      <td>22.705</td>\n",
       "      <td>0</td>\n",
       "      <td>no</td>\n",
       "      <td>northwest</td>\n",
       "      <td>21984.47061</td>\n",
       "    </tr>\n",
       "    <tr>\n",
       "      <th>4</th>\n",
       "      <td>32</td>\n",
       "      <td>male</td>\n",
       "      <td>28.880</td>\n",
       "      <td>0</td>\n",
       "      <td>no</td>\n",
       "      <td>northwest</td>\n",
       "      <td>3866.85520</td>\n",
       "    </tr>\n",
       "  </tbody>\n",
       "</table>\n",
       "</div>"
      ],
      "text/plain": [
       "   age     sex     bmi  children smoker     region      charges\n",
       "0   19  female  27.900         0    yes  southwest  16884.92400\n",
       "1   18    male  33.770         1     no  southeast   1725.55230\n",
       "2   28    male  33.000         3     no  southeast   4449.46200\n",
       "3   33    male  22.705         0     no  northwest  21984.47061\n",
       "4   32    male  28.880         0     no  northwest   3866.85520"
      ]
     },
     "execution_count": 3,
     "metadata": {},
     "output_type": "execute_result"
    }
   ],
   "source": [
    "df = pd.read_csv('insurance.csv')\n",
    "df.head()"
   ]
  },
  {
   "cell_type": "code",
   "execution_count": 5,
   "id": "8001c735",
   "metadata": {},
   "outputs": [
    {
     "data": {
      "text/plain": [
       "(1338, 7)"
      ]
     },
     "execution_count": 5,
     "metadata": {},
     "output_type": "execute_result"
    }
   ],
   "source": [
    "df.shape\n",
    "# rows = 1338, cols = 7"
   ]
  },
  {
   "cell_type": "markdown",
   "id": "873fed7e",
   "metadata": {},
   "source": [
    "### Data Preprocessing"
   ]
  },
  {
   "cell_type": "markdown",
   "id": "c8fa888f",
   "metadata": {},
   "source": [
    "#### 1) Handle Null Values"
   ]
  },
  {
   "cell_type": "code",
   "execution_count": 6,
   "id": "9cb4c47a",
   "metadata": {},
   "outputs": [
    {
     "data": {
      "text/plain": [
       "age         0\n",
       "sex         0\n",
       "bmi         0\n",
       "children    0\n",
       "smoker      0\n",
       "region      0\n",
       "charges     0\n",
       "dtype: int64"
      ]
     },
     "execution_count": 6,
     "metadata": {},
     "output_type": "execute_result"
    }
   ],
   "source": [
    "df.isnull().sum()"
   ]
  },
  {
   "cell_type": "markdown",
   "id": "1339bb3b",
   "metadata": {},
   "source": [
    "##### 2) Handle Duplicates"
   ]
  },
  {
   "cell_type": "code",
   "execution_count": 7,
   "id": "16b0788c",
   "metadata": {},
   "outputs": [
    {
     "data": {
      "text/plain": [
       "1"
      ]
     },
     "execution_count": 7,
     "metadata": {},
     "output_type": "execute_result"
    }
   ],
   "source": [
    "df.duplicated().sum()"
   ]
  },
  {
   "cell_type": "code",
   "execution_count": 8,
   "id": "bcb74ea5",
   "metadata": {},
   "outputs": [
    {
     "data": {
      "text/plain": [
       "0"
      ]
     },
     "execution_count": 8,
     "metadata": {},
     "output_type": "execute_result"
    }
   ],
   "source": [
    "df.drop_duplicates(inplace=True)\n",
    "df.duplicated().sum()"
   ]
  },
  {
   "cell_type": "markdown",
   "id": "054cbaf0",
   "metadata": {},
   "source": [
    "#### Separate Num and cat features"
   ]
  },
  {
   "cell_type": "code",
   "execution_count": 9,
   "id": "6d64a8a4",
   "metadata": {},
   "outputs": [
    {
     "name": "stdout",
     "output_type": "stream",
     "text": [
      "Index(['age', 'bmi', 'children', 'charges'], dtype='object')\n",
      "Index(['sex', 'smoker', 'region'], dtype='object')\n"
     ]
    }
   ],
   "source": [
    "num_cols = df.dtypes[df.dtypes!='object'].index\n",
    "cat_cols = df.dtypes[df.dtypes=='object'].index\n",
    "print(num_cols)\n",
    "print(cat_cols)"
   ]
  },
  {
   "cell_type": "code",
   "execution_count": 14,
   "id": "ac2a4750",
   "metadata": {},
   "outputs": [
    {
     "data": {
      "text/html": [
       "<div>\n",
       "<style scoped>\n",
       "    .dataframe tbody tr th:only-of-type {\n",
       "        vertical-align: middle;\n",
       "    }\n",
       "\n",
       "    .dataframe tbody tr th {\n",
       "        vertical-align: top;\n",
       "    }\n",
       "\n",
       "    .dataframe thead th {\n",
       "        text-align: right;\n",
       "    }\n",
       "</style>\n",
       "<table border=\"1\" class=\"dataframe\">\n",
       "  <thead>\n",
       "    <tr style=\"text-align: right;\">\n",
       "      <th></th>\n",
       "      <th>age</th>\n",
       "      <th>bmi</th>\n",
       "      <th>children</th>\n",
       "      <th>charges</th>\n",
       "    </tr>\n",
       "  </thead>\n",
       "  <tbody>\n",
       "    <tr>\n",
       "      <th>count</th>\n",
       "      <td>1337.000000</td>\n",
       "      <td>1337.000000</td>\n",
       "      <td>1337.000000</td>\n",
       "      <td>1337.000000</td>\n",
       "    </tr>\n",
       "    <tr>\n",
       "      <th>mean</th>\n",
       "      <td>39.222139</td>\n",
       "      <td>30.663452</td>\n",
       "      <td>1.095737</td>\n",
       "      <td>13279.121487</td>\n",
       "    </tr>\n",
       "    <tr>\n",
       "      <th>std</th>\n",
       "      <td>14.044333</td>\n",
       "      <td>6.100468</td>\n",
       "      <td>1.205571</td>\n",
       "      <td>12110.359656</td>\n",
       "    </tr>\n",
       "    <tr>\n",
       "      <th>min</th>\n",
       "      <td>18.000000</td>\n",
       "      <td>15.960000</td>\n",
       "      <td>0.000000</td>\n",
       "      <td>1121.873900</td>\n",
       "    </tr>\n",
       "    <tr>\n",
       "      <th>25%</th>\n",
       "      <td>27.000000</td>\n",
       "      <td>26.290000</td>\n",
       "      <td>0.000000</td>\n",
       "      <td>4746.344000</td>\n",
       "    </tr>\n",
       "    <tr>\n",
       "      <th>50%</th>\n",
       "      <td>39.000000</td>\n",
       "      <td>30.400000</td>\n",
       "      <td>1.000000</td>\n",
       "      <td>9386.161300</td>\n",
       "    </tr>\n",
       "    <tr>\n",
       "      <th>75%</th>\n",
       "      <td>51.000000</td>\n",
       "      <td>34.700000</td>\n",
       "      <td>2.000000</td>\n",
       "      <td>16657.717450</td>\n",
       "    </tr>\n",
       "    <tr>\n",
       "      <th>max</th>\n",
       "      <td>64.000000</td>\n",
       "      <td>53.130000</td>\n",
       "      <td>5.000000</td>\n",
       "      <td>63770.428010</td>\n",
       "    </tr>\n",
       "  </tbody>\n",
       "</table>\n",
       "</div>"
      ],
      "text/plain": [
       "               age          bmi     children       charges\n",
       "count  1337.000000  1337.000000  1337.000000   1337.000000\n",
       "mean     39.222139    30.663452     1.095737  13279.121487\n",
       "std      14.044333     6.100468     1.205571  12110.359656\n",
       "min      18.000000    15.960000     0.000000   1121.873900\n",
       "25%      27.000000    26.290000     0.000000   4746.344000\n",
       "50%      39.000000    30.400000     1.000000   9386.161300\n",
       "75%      51.000000    34.700000     2.000000  16657.717450\n",
       "max      64.000000    53.130000     5.000000  63770.428010"
      ]
     },
     "execution_count": 14,
     "metadata": {},
     "output_type": "execute_result"
    }
   ],
   "source": [
    "df.describe()"
   ]
  },
  {
   "cell_type": "markdown",
   "id": "c4d3bf65",
   "metadata": {},
   "source": [
    "#### EDA"
   ]
  },
  {
   "cell_type": "code",
   "execution_count": 13,
   "id": "0f2935f8",
   "metadata": {},
   "outputs": [
    {
     "data": {
      "image/png": "[encoded data removed]",
      "text/plain": [
       "<Figure size 1200x400 with 3 Axes>"
      ]
     },
     "metadata": {},
     "output_type": "display_data"
    }
   ],
   "source": [
    "plt.figure(figsize=(12,4))\n",
    "for i in range(len(cat_cols)):\n",
    "    plt.subplot(1,3,i+1)\n",
    "    sns.countplot(x=df[cat_cols[i]])\n",
    "    plt.title(f'Countplot for {cat_cols[i]}')\n",
    "\n",
    "plt.tight_layout()\n",
    "plt.show()"
   ]
  },
  {
   "cell_type": "markdown",
   "id": "44eeb66b",
   "metadata": {},
   "source": [
    "#### Variation of Cat_cols wrt target Variable  - Boxplot"
   ]
  },
  {
   "cell_type": "code",
   "execution_count": 15,
   "id": "a6657b02",
   "metadata": {},
   "outputs": [
    {
     "data": {
      "image/png": "[encoded data removed]",
      "text/plain": [
       "<Figure size 1200x400 with 3 Axes>"
      ]
     },
     "metadata": {},
     "output_type": "display_data"
    }
   ],
   "source": [
    "plt.figure(figsize=(12,4))\n",
    "for i in range(len(cat_cols)):\n",
    "    plt.subplot(1,3,i+1)  # (1,3,1),(1,3,2),(1,3,3)\n",
    "    sns.boxplot(x=df[cat_cols[i]],y=df['charges'])\n",
    "    plt.title(f'Boxplot for {cat_cols[i]}')\n",
    "\n",
    "plt.tight_layout()\n",
    "plt.show()"
   ]
  },
  {
   "cell_type": "markdown",
   "id": "7aa3a785",
   "metadata": {},
   "source": [
    "#### Continuous Features"
   ]
  },
  {
   "cell_type": "code",
   "execution_count": 20,
   "id": "6861f80b",
   "metadata": {},
   "outputs": [
    {
     "data": {
      "image/png": "[encoded data removed]",
      "text/plain": [
       "<Figure size 1200x700 with 4 Axes>"
      ]
     },
     "metadata": {},
     "output_type": "display_data"
    }
   ],
   "source": [
    "plt.figure(figsize=(12,7))\n",
    "for i in range(len(num_cols)):\n",
    "    plt.subplot(2,2,i+1)  # (2,2,1), (2,2,2), (2,2,3),(2,2,4)\n",
    "    sns.histplot(x=df[num_cols[i]],kde=True)\n",
    "    plt.title(f'KDEplot for {num_cols[i]}')\n",
    "plt.tight_layout()\n",
    "plt.show()"
   ]
  },
  {
   "cell_type": "markdown",
   "id": "1994754e",
   "metadata": {},
   "source": [
    "#### Correlation"
   ]
  },
  {
   "cell_type": "code",
   "execution_count": 23,
   "id": "6619e7f6",
   "metadata": {},
   "outputs": [
    {
     "data": {
      "image/png": "[encoded data removed]",
      "text/plain": [
       "<Figure size 640x480 with 2 Axes>"
      ]
     },
     "metadata": {},
     "output_type": "display_data"
    }
   ],
   "source": [
    "corr = df.corr()\n",
    "\n",
    "# plt.figure(figsize=(5,5))\n",
    "sns.heatmap(corr,annot=True,cmap='RdBu')\n",
    "plt.show()"
   ]
  },
  {
   "cell_type": "markdown",
   "id": "9173f28c",
   "metadata": {},
   "source": [
    "#### Outlier treatment"
   ]
  },
  {
   "cell_type": "code",
   "execution_count": 25,
   "id": "24a307dd",
   "metadata": {},
   "outputs": [
    {
     "data": {
      "text/html": [
       "<div>\n",
       "<style scoped>\n",
       "    .dataframe tbody tr th:only-of-type {\n",
       "        vertical-align: middle;\n",
       "    }\n",
       "\n",
       "    .dataframe tbody tr th {\n",
       "        vertical-align: top;\n",
       "    }\n",
       "\n",
       "    .dataframe thead th {\n",
       "        text-align: right;\n",
       "    }\n",
       "</style>\n",
       "<table border=\"1\" class=\"dataframe\">\n",
       "  <thead>\n",
       "    <tr style=\"text-align: right;\">\n",
       "      <th></th>\n",
       "      <th>min</th>\n",
       "      <th>1%</th>\n",
       "      <th>2%</th>\n",
       "      <th>5%</th>\n",
       "      <th>50%</th>\n",
       "      <th>95%</th>\n",
       "      <th>98%</th>\n",
       "      <th>99%</th>\n",
       "      <th>max</th>\n",
       "    </tr>\n",
       "  </thead>\n",
       "  <tbody>\n",
       "    <tr>\n",
       "      <th>age</th>\n",
       "      <td>18.0000</td>\n",
       "      <td>18.00000</td>\n",
       "      <td>18.0000</td>\n",
       "      <td>18.00000</td>\n",
       "      <td>39.0000</td>\n",
       "      <td>62.0000</td>\n",
       "      <td>63.000000</td>\n",
       "      <td>64.000000</td>\n",
       "      <td>64.00000</td>\n",
       "    </tr>\n",
       "    <tr>\n",
       "      <th>bmi</th>\n",
       "      <td>15.9600</td>\n",
       "      <td>17.89420</td>\n",
       "      <td>19.2692</td>\n",
       "      <td>21.24800</td>\n",
       "      <td>30.4000</td>\n",
       "      <td>41.1080</td>\n",
       "      <td>43.920800</td>\n",
       "      <td>46.411200</td>\n",
       "      <td>53.13000</td>\n",
       "    </tr>\n",
       "    <tr>\n",
       "      <th>children</th>\n",
       "      <td>0.0000</td>\n",
       "      <td>0.00000</td>\n",
       "      <td>0.0000</td>\n",
       "      <td>0.00000</td>\n",
       "      <td>1.0000</td>\n",
       "      <td>3.0000</td>\n",
       "      <td>4.000000</td>\n",
       "      <td>5.000000</td>\n",
       "      <td>5.00000</td>\n",
       "    </tr>\n",
       "    <tr>\n",
       "      <th>charges</th>\n",
       "      <td>1121.8739</td>\n",
       "      <td>1252.95744</td>\n",
       "      <td>1621.7308</td>\n",
       "      <td>1767.49292</td>\n",
       "      <td>9386.1613</td>\n",
       "      <td>41210.0498</td>\n",
       "      <td>46677.324238</td>\n",
       "      <td>48537.796878</td>\n",
       "      <td>63770.42801</td>\n",
       "    </tr>\n",
       "  </tbody>\n",
       "</table>\n",
       "</div>"
      ],
      "text/plain": [
       "                min          1%         2%          5%        50%         95%  \\\n",
       "age         18.0000    18.00000    18.0000    18.00000    39.0000     62.0000   \n",
       "bmi         15.9600    17.89420    19.2692    21.24800    30.4000     41.1080   \n",
       "children     0.0000     0.00000     0.0000     0.00000     1.0000      3.0000   \n",
       "charges   1121.8739  1252.95744  1621.7308  1767.49292  9386.1613  41210.0498   \n",
       "\n",
       "                   98%           99%          max  \n",
       "age          63.000000     64.000000     64.00000  \n",
       "bmi          43.920800     46.411200     53.13000  \n",
       "children      4.000000      5.000000      5.00000  \n",
       "charges   46677.324238  48537.796878  63770.42801  "
      ]
     },
     "execution_count": 25,
     "metadata": {},
     "output_type": "execute_result"
    }
   ],
   "source": [
    "a = df[num_cols].describe(percentiles=[0.01,0.02,0.05,0.95,0.98,0.99]).T\n",
    "a = a.iloc[:,3:]\n",
    "a"
   ]
  },
  {
   "cell_type": "code",
   "execution_count": 26,
   "id": "b16eddf7",
   "metadata": {},
   "outputs": [
    {
     "data": {
      "text/plain": [
       "0    573\n",
       "1    324\n",
       "2    240\n",
       "3    157\n",
       "4     25\n",
       "5     18\n",
       "Name: children, dtype: int64"
      ]
     },
     "execution_count": 26,
     "metadata": {},
     "output_type": "execute_result"
    }
   ],
   "source": [
    "df['children'].value_counts()"
   ]
  },
  {
   "cell_type": "code",
   "execution_count": 30,
   "id": "db97e811",
   "metadata": {},
   "outputs": [
    {
     "name": "stdout",
     "output_type": "stream",
     "text": [
      "(14, 7)\n",
      "(14, 7)\n"
     ]
    }
   ],
   "source": [
    "print(df[df['charges']>48537.796878].shape)\n",
    "print(df[df['charges']<1252.95744].shape)"
   ]
  },
  {
   "cell_type": "code",
   "execution_count": 31,
   "id": "e70a0e1c",
   "metadata": {},
   "outputs": [],
   "source": [
    "df['charges'] = np.where(df['charges']>48537.796878,48537.796878,df['charges'])\n",
    "df['charges'] = np.where(df['charges']<1252.95744,1252.95744,df['charges'])"
   ]
  },
  {
   "cell_type": "code",
   "execution_count": 32,
   "id": "8373f30f",
   "metadata": {},
   "outputs": [
    {
     "data": {
      "text/html": [
       "<div>\n",
       "<style scoped>\n",
       "    .dataframe tbody tr th:only-of-type {\n",
       "        vertical-align: middle;\n",
       "    }\n",
       "\n",
       "    .dataframe tbody tr th {\n",
       "        vertical-align: top;\n",
       "    }\n",
       "\n",
       "    .dataframe thead th {\n",
       "        text-align: right;\n",
       "    }\n",
       "</style>\n",
       "<table border=\"1\" class=\"dataframe\">\n",
       "  <thead>\n",
       "    <tr style=\"text-align: right;\">\n",
       "      <th></th>\n",
       "      <th>min</th>\n",
       "      <th>1%</th>\n",
       "      <th>2%</th>\n",
       "      <th>5%</th>\n",
       "      <th>50%</th>\n",
       "      <th>95%</th>\n",
       "      <th>98%</th>\n",
       "      <th>99%</th>\n",
       "      <th>max</th>\n",
       "    </tr>\n",
       "  </thead>\n",
       "  <tbody>\n",
       "    <tr>\n",
       "      <th>age</th>\n",
       "      <td>18.00000</td>\n",
       "      <td>18.000000</td>\n",
       "      <td>18.0000</td>\n",
       "      <td>18.00000</td>\n",
       "      <td>39.0000</td>\n",
       "      <td>62.0000</td>\n",
       "      <td>63.000000</td>\n",
       "      <td>64.000000</td>\n",
       "      <td>64.000000</td>\n",
       "    </tr>\n",
       "    <tr>\n",
       "      <th>bmi</th>\n",
       "      <td>15.96000</td>\n",
       "      <td>17.894200</td>\n",
       "      <td>19.2692</td>\n",
       "      <td>21.24800</td>\n",
       "      <td>30.4000</td>\n",
       "      <td>41.1080</td>\n",
       "      <td>43.920800</td>\n",
       "      <td>46.411200</td>\n",
       "      <td>53.130000</td>\n",
       "    </tr>\n",
       "    <tr>\n",
       "      <th>children</th>\n",
       "      <td>0.00000</td>\n",
       "      <td>0.000000</td>\n",
       "      <td>0.0000</td>\n",
       "      <td>0.00000</td>\n",
       "      <td>1.0000</td>\n",
       "      <td>3.0000</td>\n",
       "      <td>4.000000</td>\n",
       "      <td>5.000000</td>\n",
       "      <td>5.000000</td>\n",
       "    </tr>\n",
       "    <tr>\n",
       "      <th>charges</th>\n",
       "      <td>1252.95744</td>\n",
       "      <td>1253.309722</td>\n",
       "      <td>1621.7308</td>\n",
       "      <td>1767.49292</td>\n",
       "      <td>9386.1613</td>\n",
       "      <td>41210.0498</td>\n",
       "      <td>46677.324238</td>\n",
       "      <td>48530.512736</td>\n",
       "      <td>48537.796878</td>\n",
       "    </tr>\n",
       "  </tbody>\n",
       "</table>\n",
       "</div>"
      ],
      "text/plain": [
       "                 min           1%         2%          5%        50%  \\\n",
       "age         18.00000    18.000000    18.0000    18.00000    39.0000   \n",
       "bmi         15.96000    17.894200    19.2692    21.24800    30.4000   \n",
       "children     0.00000     0.000000     0.0000     0.00000     1.0000   \n",
       "charges   1252.95744  1253.309722  1621.7308  1767.49292  9386.1613   \n",
       "\n",
       "                 95%           98%           99%           max  \n",
       "age          62.0000     63.000000     64.000000     64.000000  \n",
       "bmi          41.1080     43.920800     46.411200     53.130000  \n",
       "children      3.0000      4.000000      5.000000      5.000000  \n",
       "charges   41210.0498  46677.324238  48530.512736  48537.796878  "
      ]
     },
     "execution_count": 32,
     "metadata": {},
     "output_type": "execute_result"
    }
   ],
   "source": [
    "a = df[num_cols].describe(percentiles=[0.01,0.02,0.05,0.95,0.98,0.99]).T\n",
    "a = a.iloc[:,3:]\n",
    "a"
   ]
  },
  {
   "cell_type": "markdown",
   "id": "b6b90ce7",
   "metadata": {},
   "source": [
    "#### Encoding categorical Features"
   ]
  },
  {
   "cell_type": "code",
   "execution_count": 34,
   "id": "f580bfcb",
   "metadata": {},
   "outputs": [
    {
     "data": {
      "text/plain": [
       "male      675\n",
       "female    662\n",
       "Name: sex, dtype: int64"
      ]
     },
     "execution_count": 34,
     "metadata": {},
     "output_type": "execute_result"
    }
   ],
   "source": [
    "df['sex'].value_counts()"
   ]
  },
  {
   "cell_type": "code",
   "execution_count": 35,
   "id": "884d5a94",
   "metadata": {},
   "outputs": [
    {
     "data": {
      "text/plain": [
       "no     1063\n",
       "yes     274\n",
       "Name: smoker, dtype: int64"
      ]
     },
     "execution_count": 35,
     "metadata": {},
     "output_type": "execute_result"
    }
   ],
   "source": [
    "df['smoker'].value_counts()"
   ]
  },
  {
   "cell_type": "code",
   "execution_count": 36,
   "id": "694e1150",
   "metadata": {},
   "outputs": [
    {
     "data": {
      "text/plain": [
       "southeast    364\n",
       "southwest    325\n",
       "northwest    324\n",
       "northeast    324\n",
       "Name: region, dtype: int64"
      ]
     },
     "execution_count": 36,
     "metadata": {},
     "output_type": "execute_result"
    }
   ],
   "source": [
    "df['region'].value_counts()"
   ]
  },
  {
   "cell_type": "code",
   "execution_count": 38,
   "id": "bfc4acf6",
   "metadata": {},
   "outputs": [],
   "source": [
    "from sklearn.preprocessing import LabelEncoder"
   ]
  },
  {
   "cell_type": "code",
   "execution_count": 39,
   "id": "c84e3bfb",
   "metadata": {},
   "outputs": [],
   "source": [
    "lb = LabelEncoder()\n",
    "for i in ['sex','smoker']:\n",
    "    df[i] = lb.fit_transform(df[i])"
   ]
  },
  {
   "cell_type": "code",
   "execution_count": 40,
   "id": "f3e93b52",
   "metadata": {},
   "outputs": [
    {
     "data": {
      "text/html": [
       "<div>\n",
       "<style scoped>\n",
       "    .dataframe tbody tr th:only-of-type {\n",
       "        vertical-align: middle;\n",
       "    }\n",
       "\n",
       "    .dataframe tbody tr th {\n",
       "        vertical-align: top;\n",
       "    }\n",
       "\n",
       "    .dataframe thead th {\n",
       "        text-align: right;\n",
       "    }\n",
       "</style>\n",
       "<table border=\"1\" class=\"dataframe\">\n",
       "  <thead>\n",
       "    <tr style=\"text-align: right;\">\n",
       "      <th></th>\n",
       "      <th>age</th>\n",
       "      <th>sex</th>\n",
       "      <th>bmi</th>\n",
       "      <th>children</th>\n",
       "      <th>smoker</th>\n",
       "      <th>region</th>\n",
       "      <th>charges</th>\n",
       "    </tr>\n",
       "  </thead>\n",
       "  <tbody>\n",
       "    <tr>\n",
       "      <th>0</th>\n",
       "      <td>19</td>\n",
       "      <td>0</td>\n",
       "      <td>27.900</td>\n",
       "      <td>0</td>\n",
       "      <td>1</td>\n",
       "      <td>southwest</td>\n",
       "      <td>16884.92400</td>\n",
       "    </tr>\n",
       "    <tr>\n",
       "      <th>1</th>\n",
       "      <td>18</td>\n",
       "      <td>1</td>\n",
       "      <td>33.770</td>\n",
       "      <td>1</td>\n",
       "      <td>0</td>\n",
       "      <td>southeast</td>\n",
       "      <td>1725.55230</td>\n",
       "    </tr>\n",
       "    <tr>\n",
       "      <th>2</th>\n",
       "      <td>28</td>\n",
       "      <td>1</td>\n",
       "      <td>33.000</td>\n",
       "      <td>3</td>\n",
       "      <td>0</td>\n",
       "      <td>southeast</td>\n",
       "      <td>4449.46200</td>\n",
       "    </tr>\n",
       "    <tr>\n",
       "      <th>3</th>\n",
       "      <td>33</td>\n",
       "      <td>1</td>\n",
       "      <td>22.705</td>\n",
       "      <td>0</td>\n",
       "      <td>0</td>\n",
       "      <td>northwest</td>\n",
       "      <td>21984.47061</td>\n",
       "    </tr>\n",
       "    <tr>\n",
       "      <th>4</th>\n",
       "      <td>32</td>\n",
       "      <td>1</td>\n",
       "      <td>28.880</td>\n",
       "      <td>0</td>\n",
       "      <td>0</td>\n",
       "      <td>northwest</td>\n",
       "      <td>3866.85520</td>\n",
       "    </tr>\n",
       "  </tbody>\n",
       "</table>\n",
       "</div>"
      ],
      "text/plain": [
       "   age  sex     bmi  children  smoker     region      charges\n",
       "0   19    0  27.900         0       1  southwest  16884.92400\n",
       "1   18    1  33.770         1       0  southeast   1725.55230\n",
       "2   28    1  33.000         3       0  southeast   4449.46200\n",
       "3   33    1  22.705         0       0  northwest  21984.47061\n",
       "4   32    1  28.880         0       0  northwest   3866.85520"
      ]
     },
     "execution_count": 40,
     "metadata": {},
     "output_type": "execute_result"
    }
   ],
   "source": [
    "df.head()\n",
    "# Cat -> Continuous : Encodeing (LabelEncoder, Dummy Variable, One HOt Encoder)\n",
    "# Cat -> Cat : Binning (Quartile Binning, Custom Binning)"
   ]
  },
  {
   "cell_type": "code",
   "execution_count": 42,
   "id": "bcd98ebd",
   "metadata": {},
   "outputs": [
    {
     "name": "stdout",
     "output_type": "stream",
     "text": [
      "(1337, 9)\n",
      "Index(['age', 'sex', 'bmi', 'children', 'smoker', 'charges',\n",
      "       'region_northwest', 'region_southeast', 'region_southwest'],\n",
      "      dtype='object')\n"
     ]
    }
   ],
   "source": [
    "df_dum = pd.get_dummies(data=df,columns=['region'],drop_first=True)\n",
    "print(df_dum.shape)\n",
    "print(df_dum.columns)"
   ]
  },
  {
   "cell_type": "markdown",
   "id": "86361ca4",
   "metadata": {},
   "source": [
    "#### Select x and y"
   ]
  },
  {
   "cell_type": "code",
   "execution_count": 45,
   "id": "1e6101d3",
   "metadata": {},
   "outputs": [
    {
     "name": "stdout",
     "output_type": "stream",
     "text": [
      "(1337, 8)\n",
      "(1337,)\n"
     ]
    }
   ],
   "source": [
    "x = df_dum.drop('charges',axis=1)\n",
    "y = df_dum['charges']\n",
    "print(x.shape)\n",
    "print(y.shape)"
   ]
  },
  {
   "cell_type": "markdown",
   "id": "c6426764",
   "metadata": {},
   "source": [
    "#### Split data into train and test"
   ]
  },
  {
   "cell_type": "code",
   "execution_count": 46,
   "id": "548a3e0c",
   "metadata": {},
   "outputs": [],
   "source": [
    "from sklearn.model_selection import train_test_split"
   ]
  },
  {
   "cell_type": "code",
   "execution_count": 56,
   "id": "28179efb",
   "metadata": {},
   "outputs": [
    {
     "name": "stdout",
     "output_type": "stream",
     "text": [
      "(1002, 8)\n",
      "(335, 8)\n",
      "(1002,)\n",
      "(335,)\n"
     ]
    }
   ],
   "source": [
    "x_train,x_test,y_train,y_test = train_test_split(x,y,test_size=0.25,random_state=25)\n",
    "print(x_train.shape)\n",
    "print(x_test.shape)\n",
    "print(y_train.shape)\n",
    "print(y_test.shape)"
   ]
  },
  {
   "cell_type": "markdown",
   "id": "fc2cda2b",
   "metadata": {},
   "source": [
    "#### Create a function to evaluate the model"
   ]
  },
  {
   "cell_type": "code",
   "execution_count": 33,
   "id": "e8d00e3f",
   "metadata": {},
   "outputs": [],
   "source": [
    "from sklearn.metrics import *"
   ]
  },
  {
   "cell_type": "code",
   "execution_count": 57,
   "id": "ccef6673",
   "metadata": {},
   "outputs": [],
   "source": [
    "def eval_model(model,x_train,y_train,x_test,y_test,mname):\n",
    "    model.fit(x_train,y_train)\n",
    "    ypred = model.predict(x_test)\n",
    "    train_r2 = model.score(x_train,y_train)\n",
    "    test_r2 = model.score(x_test,y_test)\n",
    "    test_mae = mean_absolute_error(y_test,ypred)\n",
    "    test_mse = mean_squared_error(y_test,ypred)\n",
    "    test_rmse = np.sqrt(test_mse)\n",
    "    res = pd.DataFrame({'Train_R2':train_r2,'Test_R2':test_r2,\n",
    "                        'Test_MSE':test_mse,'Test_RMSE':test_rmse,'Test_MAE':test_mae},\n",
    "                       index=[mname])\n",
    "    return res"
   ]
  },
  {
   "cell_type": "code",
   "execution_count": 50,
   "id": "bb1f91b7",
   "metadata": {},
   "outputs": [],
   "source": [
    "from sklearn.linear_model import LinearRegression,Ridge, Lasso\n",
    "from sklearn.tree import DecisionTreeRegressor\n",
    "from sklearn.ensemble import RandomForestRegressor, AdaBoostRegressor\n",
    "from sklearn.neighbors import KNeighborsRegressor"
   ]
  },
  {
   "cell_type": "markdown",
   "id": "7d12a3e2",
   "metadata": {},
   "source": [
    "#### Model Building"
   ]
  },
  {
   "cell_type": "markdown",
   "id": "5697ee67",
   "metadata": {},
   "source": [
    "#### 1) Lin Reg"
   ]
  },
  {
   "cell_type": "code",
   "execution_count": 58,
   "id": "f2f1f911",
   "metadata": {},
   "outputs": [
    {
     "data": {
      "text/html": [
       "<div>\n",
       "<style scoped>\n",
       "    .dataframe tbody tr th:only-of-type {\n",
       "        vertical-align: middle;\n",
       "    }\n",
       "\n",
       "    .dataframe tbody tr th {\n",
       "        vertical-align: top;\n",
       "    }\n",
       "\n",
       "    .dataframe thead th {\n",
       "        text-align: right;\n",
       "    }\n",
       "</style>\n",
       "<table border=\"1\" class=\"dataframe\">\n",
       "  <thead>\n",
       "    <tr style=\"text-align: right;\">\n",
       "      <th></th>\n",
       "      <th>Train_R2</th>\n",
       "      <th>Test_R2</th>\n",
       "      <th>Test_MSE</th>\n",
       "      <th>Test_RMSE</th>\n",
       "      <th>Test_MAE</th>\n",
       "    </tr>\n",
       "  </thead>\n",
       "  <tbody>\n",
       "    <tr>\n",
       "      <th>Lin_Reg</th>\n",
       "      <td>0.758996</td>\n",
       "      <td>0.745287</td>\n",
       "      <td>3.487617e+07</td>\n",
       "      <td>5905.604992</td>\n",
       "      <td>4165.240422</td>\n",
       "    </tr>\n",
       "  </tbody>\n",
       "</table>\n",
       "</div>"
      ],
      "text/plain": [
       "         Train_R2   Test_R2      Test_MSE    Test_RMSE     Test_MAE\n",
       "Lin_Reg  0.758996  0.745287  3.487617e+07  5905.604992  4165.240422"
      ]
     },
     "execution_count": 58,
     "metadata": {},
     "output_type": "execute_result"
    }
   ],
   "source": [
    "lr = LinearRegression()\n",
    "lr_res = eval_model(lr,x_train,y_train,x_test,y_test,'Lin_Reg')\n",
    "lr_res"
   ]
  },
  {
   "cell_type": "markdown",
   "id": "be996e95",
   "metadata": {},
   "source": [
    "#### 2) Ridge Regression"
   ]
  },
  {
   "cell_type": "code",
   "execution_count": 63,
   "id": "ed51e1bf",
   "metadata": {},
   "outputs": [
    {
     "data": {
      "text/html": [
       "<div>\n",
       "<style scoped>\n",
       "    .dataframe tbody tr th:only-of-type {\n",
       "        vertical-align: middle;\n",
       "    }\n",
       "\n",
       "    .dataframe tbody tr th {\n",
       "        vertical-align: top;\n",
       "    }\n",
       "\n",
       "    .dataframe thead th {\n",
       "        text-align: right;\n",
       "    }\n",
       "</style>\n",
       "<table border=\"1\" class=\"dataframe\">\n",
       "  <thead>\n",
       "    <tr style=\"text-align: right;\">\n",
       "      <th></th>\n",
       "      <th>Train_R2</th>\n",
       "      <th>Test_R2</th>\n",
       "      <th>Test_MSE</th>\n",
       "      <th>Test_RMSE</th>\n",
       "      <th>Test_MAE</th>\n",
       "    </tr>\n",
       "  </thead>\n",
       "  <tbody>\n",
       "    <tr>\n",
       "      <th>Ridge</th>\n",
       "      <td>0.758995</td>\n",
       "      <td>0.745332</td>\n",
       "      <td>3.486991e+07</td>\n",
       "      <td>5905.07497</td>\n",
       "      <td>4167.031289</td>\n",
       "    </tr>\n",
       "  </tbody>\n",
       "</table>\n",
       "</div>"
      ],
      "text/plain": [
       "       Train_R2   Test_R2      Test_MSE   Test_RMSE     Test_MAE\n",
       "Ridge  0.758995  0.745332  3.486991e+07  5905.07497  4167.031289"
      ]
     },
     "execution_count": 63,
     "metadata": {},
     "output_type": "execute_result"
    }
   ],
   "source": [
    "rid = Ridge(alpha=0.2)\n",
    "rid_res = eval_model(rid,x_train,y_train,x_test,y_test,'Ridge')\n",
    "rid_res"
   ]
  },
  {
   "cell_type": "markdown",
   "id": "2c1f299a",
   "metadata": {},
   "source": [
    "#### 3) Lasso"
   ]
  },
  {
   "cell_type": "code",
   "execution_count": 65,
   "id": "cd349b48",
   "metadata": {},
   "outputs": [
    {
     "data": {
      "text/html": [
       "<div>\n",
       "<style scoped>\n",
       "    .dataframe tbody tr th:only-of-type {\n",
       "        vertical-align: middle;\n",
       "    }\n",
       "\n",
       "    .dataframe tbody tr th {\n",
       "        vertical-align: top;\n",
       "    }\n",
       "\n",
       "    .dataframe thead th {\n",
       "        text-align: right;\n",
       "    }\n",
       "</style>\n",
       "<table border=\"1\" class=\"dataframe\">\n",
       "  <thead>\n",
       "    <tr style=\"text-align: right;\">\n",
       "      <th></th>\n",
       "      <th>Train_R2</th>\n",
       "      <th>Test_R2</th>\n",
       "      <th>Test_MSE</th>\n",
       "      <th>Test_RMSE</th>\n",
       "      <th>Test_MAE</th>\n",
       "    </tr>\n",
       "  </thead>\n",
       "  <tbody>\n",
       "    <tr>\n",
       "      <th>Lasso</th>\n",
       "      <td>0.75897</td>\n",
       "      <td>0.745803</td>\n",
       "      <td>3.480546e+07</td>\n",
       "      <td>5899.615026</td>\n",
       "      <td>4164.904798</td>\n",
       "    </tr>\n",
       "  </tbody>\n",
       "</table>\n",
       "</div>"
      ],
      "text/plain": [
       "       Train_R2   Test_R2      Test_MSE    Test_RMSE     Test_MAE\n",
       "Lasso   0.75897  0.745803  3.480546e+07  5899.615026  4164.904798"
      ]
     },
     "execution_count": 65,
     "metadata": {},
     "output_type": "execute_result"
    }
   ],
   "source": [
    "las = Lasso(alpha=12)\n",
    "las_res = eval_model(las,x_train,y_train,x_test,y_test,'Lasso')\n",
    "las_res"
   ]
  },
  {
   "cell_type": "markdown",
   "id": "85021d23",
   "metadata": {},
   "source": [
    "#### 4) DT Reg"
   ]
  },
  {
   "cell_type": "code",
   "execution_count": 67,
   "id": "e1fb3ebf",
   "metadata": {},
   "outputs": [
    {
     "data": {
      "text/html": [
       "<div>\n",
       "<style scoped>\n",
       "    .dataframe tbody tr th:only-of-type {\n",
       "        vertical-align: middle;\n",
       "    }\n",
       "\n",
       "    .dataframe tbody tr th {\n",
       "        vertical-align: top;\n",
       "    }\n",
       "\n",
       "    .dataframe thead th {\n",
       "        text-align: right;\n",
       "    }\n",
       "</style>\n",
       "<table border=\"1\" class=\"dataframe\">\n",
       "  <thead>\n",
       "    <tr style=\"text-align: right;\">\n",
       "      <th></th>\n",
       "      <th>Train_R2</th>\n",
       "      <th>Test_R2</th>\n",
       "      <th>Test_MSE</th>\n",
       "      <th>Test_RMSE</th>\n",
       "      <th>Test_MAE</th>\n",
       "    </tr>\n",
       "  </thead>\n",
       "  <tbody>\n",
       "    <tr>\n",
       "      <th>DT_Reg</th>\n",
       "      <td>0.887349</td>\n",
       "      <td>0.840709</td>\n",
       "      <td>2.181057e+07</td>\n",
       "      <td>4670.178397</td>\n",
       "      <td>2577.752753</td>\n",
       "    </tr>\n",
       "  </tbody>\n",
       "</table>\n",
       "</div>"
      ],
      "text/plain": [
       "        Train_R2   Test_R2      Test_MSE    Test_RMSE     Test_MAE\n",
       "DT_Reg  0.887349  0.840709  2.181057e+07  4670.178397  2577.752753"
      ]
     },
     "execution_count": 67,
     "metadata": {},
     "output_type": "execute_result"
    }
   ],
   "source": [
    "dt = DecisionTreeRegressor(max_depth=5,min_samples_split=10)\n",
    "dt_res = eval_model(dt,x_train,y_train,x_test,y_test,'DT_Reg')\n",
    "dt_res"
   ]
  },
  {
   "cell_type": "markdown",
   "id": "cb68a83d",
   "metadata": {},
   "source": [
    "#### 5) AdaBoost Reg"
   ]
  },
  {
   "cell_type": "code",
   "execution_count": 76,
   "id": "c01962c8",
   "metadata": {},
   "outputs": [
    {
     "data": {
      "text/html": [
       "<div>\n",
       "<style scoped>\n",
       "    .dataframe tbody tr th:only-of-type {\n",
       "        vertical-align: middle;\n",
       "    }\n",
       "\n",
       "    .dataframe tbody tr th {\n",
       "        vertical-align: top;\n",
       "    }\n",
       "\n",
       "    .dataframe thead th {\n",
       "        text-align: right;\n",
       "    }\n",
       "</style>\n",
       "<table border=\"1\" class=\"dataframe\">\n",
       "  <thead>\n",
       "    <tr style=\"text-align: right;\">\n",
       "      <th></th>\n",
       "      <th>Train_R2</th>\n",
       "      <th>Test_R2</th>\n",
       "      <th>Test_MSE</th>\n",
       "      <th>Test_RMSE</th>\n",
       "      <th>Test_MAE</th>\n",
       "    </tr>\n",
       "  </thead>\n",
       "  <tbody>\n",
       "    <tr>\n",
       "      <th>Adab_Reg</th>\n",
       "      <td>0.84203</td>\n",
       "      <td>0.811865</td>\n",
       "      <td>2.576009e+07</td>\n",
       "      <td>5075.439796</td>\n",
       "      <td>3918.847993</td>\n",
       "    </tr>\n",
       "  </tbody>\n",
       "</table>\n",
       "</div>"
      ],
      "text/plain": [
       "          Train_R2   Test_R2      Test_MSE    Test_RMSE     Test_MAE\n",
       "Adab_Reg   0.84203  0.811865  2.576009e+07  5075.439796  3918.847993"
      ]
     },
     "execution_count": 76,
     "metadata": {},
     "output_type": "execute_result"
    }
   ],
   "source": [
    "adab = AdaBoostRegressor(n_estimators=80,random_state=42)\n",
    "adab_res = eval_model(adab,x_train,y_train,x_test,y_test,'Adab_Reg')\n",
    "adab_res"
   ]
  },
  {
   "cell_type": "markdown",
   "id": "eb04de44",
   "metadata": {},
   "source": [
    "#### 6) RF Reg"
   ]
  },
  {
   "cell_type": "code",
   "execution_count": 87,
   "id": "55257de1",
   "metadata": {},
   "outputs": [
    {
     "data": {
      "text/html": [
       "<div>\n",
       "<style scoped>\n",
       "    .dataframe tbody tr th:only-of-type {\n",
       "        vertical-align: middle;\n",
       "    }\n",
       "\n",
       "    .dataframe tbody tr th {\n",
       "        vertical-align: top;\n",
       "    }\n",
       "\n",
       "    .dataframe thead th {\n",
       "        text-align: right;\n",
       "    }\n",
       "</style>\n",
       "<table border=\"1\" class=\"dataframe\">\n",
       "  <thead>\n",
       "    <tr style=\"text-align: right;\">\n",
       "      <th></th>\n",
       "      <th>Train_R2</th>\n",
       "      <th>Test_R2</th>\n",
       "      <th>Test_MSE</th>\n",
       "      <th>Test_RMSE</th>\n",
       "      <th>Test_MAE</th>\n",
       "    </tr>\n",
       "  </thead>\n",
       "  <tbody>\n",
       "    <tr>\n",
       "      <th>RF_Reg</th>\n",
       "      <td>0.883141</td>\n",
       "      <td>0.848838</td>\n",
       "      <td>2.069755e+07</td>\n",
       "      <td>4549.456476</td>\n",
       "      <td>2527.822317</td>\n",
       "    </tr>\n",
       "  </tbody>\n",
       "</table>\n",
       "</div>"
      ],
      "text/plain": [
       "        Train_R2   Test_R2      Test_MSE    Test_RMSE     Test_MAE\n",
       "RF_Reg  0.883141  0.848838  2.069755e+07  4549.456476  2527.822317"
      ]
     },
     "execution_count": 87,
     "metadata": {},
     "output_type": "execute_result"
    }
   ],
   "source": [
    "rf = RandomForestRegressor(n_estimators=100,max_depth=4,min_samples_split=8)\n",
    "rf_res = eval_model(rf,x_train,y_train,x_test,y_test,'RF_Reg')\n",
    "rf_res"
   ]
  },
  {
   "cell_type": "markdown",
   "id": "e1ce6229",
   "metadata": {},
   "source": [
    "#### 7) KNN Reg"
   ]
  },
  {
   "cell_type": "code",
   "execution_count": 80,
   "id": "bf56b2f0",
   "metadata": {},
   "outputs": [
    {
     "data": {
      "text/html": [
       "<div>\n",
       "<style scoped>\n",
       "    .dataframe tbody tr th:only-of-type {\n",
       "        vertical-align: middle;\n",
       "    }\n",
       "\n",
       "    .dataframe tbody tr th {\n",
       "        vertical-align: top;\n",
       "    }\n",
       "\n",
       "    .dataframe thead th {\n",
       "        text-align: right;\n",
       "    }\n",
       "</style>\n",
       "<table border=\"1\" class=\"dataframe\">\n",
       "  <thead>\n",
       "    <tr style=\"text-align: right;\">\n",
       "      <th></th>\n",
       "      <th>Train_R2</th>\n",
       "      <th>Test_R2</th>\n",
       "      <th>Test_MSE</th>\n",
       "      <th>Test_RMSE</th>\n",
       "      <th>Test_MAE</th>\n",
       "    </tr>\n",
       "  </thead>\n",
       "  <tbody>\n",
       "    <tr>\n",
       "      <th>KNN_Reg</th>\n",
       "      <td>0.341918</td>\n",
       "      <td>0.181426</td>\n",
       "      <td>1.120817e+08</td>\n",
       "      <td>10586.866224</td>\n",
       "      <td>7620.199155</td>\n",
       "    </tr>\n",
       "  </tbody>\n",
       "</table>\n",
       "</div>"
      ],
      "text/plain": [
       "         Train_R2   Test_R2      Test_MSE     Test_RMSE     Test_MAE\n",
       "KNN_Reg  0.341918  0.181426  1.120817e+08  10586.866224  7620.199155"
      ]
     },
     "execution_count": 80,
     "metadata": {},
     "output_type": "execute_result"
    }
   ],
   "source": [
    "knn = KNeighborsRegressor(n_neighbors=7)\n",
    "knn_res = eval_model(knn,x_train,y_train,x_test,y_test,'KNN_Reg')\n",
    "knn_res"
   ]
  },
  {
   "cell_type": "markdown",
   "id": "8bed27aa",
   "metadata": {},
   "source": [
    "#### Tabulate All Results"
   ]
  },
  {
   "cell_type": "code",
   "execution_count": 88,
   "id": "5b40ae70",
   "metadata": {},
   "outputs": [
    {
     "data": {
      "text/html": [
       "<div>\n",
       "<style scoped>\n",
       "    .dataframe tbody tr th:only-of-type {\n",
       "        vertical-align: middle;\n",
       "    }\n",
       "\n",
       "    .dataframe tbody tr th {\n",
       "        vertical-align: top;\n",
       "    }\n",
       "\n",
       "    .dataframe thead th {\n",
       "        text-align: right;\n",
       "    }\n",
       "</style>\n",
       "<table border=\"1\" class=\"dataframe\">\n",
       "  <thead>\n",
       "    <tr style=\"text-align: right;\">\n",
       "      <th></th>\n",
       "      <th>Train_R2</th>\n",
       "      <th>Test_R2</th>\n",
       "      <th>Test_MSE</th>\n",
       "      <th>Test_RMSE</th>\n",
       "      <th>Test_MAE</th>\n",
       "    </tr>\n",
       "  </thead>\n",
       "  <tbody>\n",
       "    <tr>\n",
       "      <th>Lin_Reg</th>\n",
       "      <td>0.758996</td>\n",
       "      <td>0.745287</td>\n",
       "      <td>3.487617e+07</td>\n",
       "      <td>5905.604992</td>\n",
       "      <td>4165.240422</td>\n",
       "    </tr>\n",
       "    <tr>\n",
       "      <th>Ridge</th>\n",
       "      <td>0.758995</td>\n",
       "      <td>0.745332</td>\n",
       "      <td>3.486991e+07</td>\n",
       "      <td>5905.074970</td>\n",
       "      <td>4167.031289</td>\n",
       "    </tr>\n",
       "    <tr>\n",
       "      <th>Lasso</th>\n",
       "      <td>0.758970</td>\n",
       "      <td>0.745803</td>\n",
       "      <td>3.480546e+07</td>\n",
       "      <td>5899.615026</td>\n",
       "      <td>4164.904798</td>\n",
       "    </tr>\n",
       "    <tr>\n",
       "      <th>DT_Reg</th>\n",
       "      <td>0.887349</td>\n",
       "      <td>0.840709</td>\n",
       "      <td>2.181057e+07</td>\n",
       "      <td>4670.178397</td>\n",
       "      <td>2577.752753</td>\n",
       "    </tr>\n",
       "    <tr>\n",
       "      <th>Adab_Reg</th>\n",
       "      <td>0.842030</td>\n",
       "      <td>0.811865</td>\n",
       "      <td>2.576009e+07</td>\n",
       "      <td>5075.439796</td>\n",
       "      <td>3918.847993</td>\n",
       "    </tr>\n",
       "    <tr>\n",
       "      <th>RF_Reg</th>\n",
       "      <td>0.883141</td>\n",
       "      <td>0.848838</td>\n",
       "      <td>2.069755e+07</td>\n",
       "      <td>4549.456476</td>\n",
       "      <td>2527.822317</td>\n",
       "    </tr>\n",
       "    <tr>\n",
       "      <th>KNN_Reg</th>\n",
       "      <td>0.341918</td>\n",
       "      <td>0.181426</td>\n",
       "      <td>1.120817e+08</td>\n",
       "      <td>10586.866224</td>\n",
       "      <td>7620.199155</td>\n",
       "    </tr>\n",
       "  </tbody>\n",
       "</table>\n",
       "</div>"
      ],
      "text/plain": [
       "          Train_R2   Test_R2      Test_MSE     Test_RMSE     Test_MAE\n",
       "Lin_Reg   0.758996  0.745287  3.487617e+07   5905.604992  4165.240422\n",
       "Ridge     0.758995  0.745332  3.486991e+07   5905.074970  4167.031289\n",
       "Lasso     0.758970  0.745803  3.480546e+07   5899.615026  4164.904798\n",
       "DT_Reg    0.887349  0.840709  2.181057e+07   4670.178397  2577.752753\n",
       "Adab_Reg  0.842030  0.811865  2.576009e+07   5075.439796  3918.847993\n",
       "RF_Reg    0.883141  0.848838  2.069755e+07   4549.456476  2527.822317\n",
       "KNN_Reg   0.341918  0.181426  1.120817e+08  10586.866224  7620.199155"
      ]
     },
     "execution_count": 88,
     "metadata": {},
     "output_type": "execute_result"
    }
   ],
   "source": [
    "res = pd.concat([lr_res,rid_res,las_res, dt_res,adab_res,rf_res,knn_res])\n",
    "res"
   ]
  },
  {
   "cell_type": "markdown",
   "id": "7816aa70",
   "metadata": {},
   "source": [
    "#### Model Selection\n",
    "\n",
    "1) RMSE  : Best Model(with Min RMSE) : RF_Reg and DT_Reg<br>\n",
    "2) Explainatory capability and minimal overfitting : RF_Reg     "
   ]
  },
  {
   "cell_type": "markdown",
   "id": "9a8e70db",
   "metadata": {},
   "source": [
    "#### Save the model"
   ]
  },
  {
   "cell_type": "code",
   "execution_count": 89,
   "id": "69d7a0aa",
   "metadata": {},
   "outputs": [],
   "source": [
    "import pickle"
   ]
  },
  {
   "cell_type": "code",
   "execution_count": 90,
   "id": "998652cb",
   "metadata": {},
   "outputs": [],
   "source": [
    "pickle.dump(lr,open('lr_model_28Oct.pkl','wb'))\n",
    "pickle.dump(dt,open('dt_model_28Oct.pkl','wb'))\n",
    "pickle.dump(rf,open('rf_model_28Oct.pkl','wb'))"
   ]
  },
  {
   "cell_type": "code",
   "execution_count": 91,
   "id": "7ba06737",
   "metadata": {},
   "outputs": [
    {
     "data": {
      "text/html": [
       "<div>\n",
       "<style scoped>\n",
       "    .dataframe tbody tr th:only-of-type {\n",
       "        vertical-align: middle;\n",
       "    }\n",
       "\n",
       "    .dataframe tbody tr th {\n",
       "        vertical-align: top;\n",
       "    }\n",
       "\n",
       "    .dataframe thead th {\n",
       "        text-align: right;\n",
       "    }\n",
       "</style>\n",
       "<table border=\"1\" class=\"dataframe\">\n",
       "  <thead>\n",
       "    <tr style=\"text-align: right;\">\n",
       "      <th></th>\n",
       "      <th>age</th>\n",
       "      <th>sex</th>\n",
       "      <th>bmi</th>\n",
       "      <th>children</th>\n",
       "      <th>smoker</th>\n",
       "      <th>charges</th>\n",
       "      <th>region_northwest</th>\n",
       "      <th>region_southeast</th>\n",
       "      <th>region_southwest</th>\n",
       "    </tr>\n",
       "  </thead>\n",
       "  <tbody>\n",
       "    <tr>\n",
       "      <th>0</th>\n",
       "      <td>19</td>\n",
       "      <td>0</td>\n",
       "      <td>27.900</td>\n",
       "      <td>0</td>\n",
       "      <td>1</td>\n",
       "      <td>16884.92400</td>\n",
       "      <td>0</td>\n",
       "      <td>0</td>\n",
       "      <td>1</td>\n",
       "    </tr>\n",
       "    <tr>\n",
       "      <th>1</th>\n",
       "      <td>18</td>\n",
       "      <td>1</td>\n",
       "      <td>33.770</td>\n",
       "      <td>1</td>\n",
       "      <td>0</td>\n",
       "      <td>1725.55230</td>\n",
       "      <td>0</td>\n",
       "      <td>1</td>\n",
       "      <td>0</td>\n",
       "    </tr>\n",
       "    <tr>\n",
       "      <th>2</th>\n",
       "      <td>28</td>\n",
       "      <td>1</td>\n",
       "      <td>33.000</td>\n",
       "      <td>3</td>\n",
       "      <td>0</td>\n",
       "      <td>4449.46200</td>\n",
       "      <td>0</td>\n",
       "      <td>1</td>\n",
       "      <td>0</td>\n",
       "    </tr>\n",
       "    <tr>\n",
       "      <th>3</th>\n",
       "      <td>33</td>\n",
       "      <td>1</td>\n",
       "      <td>22.705</td>\n",
       "      <td>0</td>\n",
       "      <td>0</td>\n",
       "      <td>21984.47061</td>\n",
       "      <td>1</td>\n",
       "      <td>0</td>\n",
       "      <td>0</td>\n",
       "    </tr>\n",
       "    <tr>\n",
       "      <th>4</th>\n",
       "      <td>32</td>\n",
       "      <td>1</td>\n",
       "      <td>28.880</td>\n",
       "      <td>0</td>\n",
       "      <td>0</td>\n",
       "      <td>3866.85520</td>\n",
       "      <td>1</td>\n",
       "      <td>0</td>\n",
       "      <td>0</td>\n",
       "    </tr>\n",
       "  </tbody>\n",
       "</table>\n",
       "</div>"
      ],
      "text/plain": [
       "   age  sex     bmi  children  smoker      charges  region_northwest  \\\n",
       "0   19    0  27.900         0       1  16884.92400                 0   \n",
       "1   18    1  33.770         1       0   1725.55230                 0   \n",
       "2   28    1  33.000         3       0   4449.46200                 0   \n",
       "3   33    1  22.705         0       0  21984.47061                 1   \n",
       "4   32    1  28.880         0       0   3866.85520                 1   \n",
       "\n",
       "   region_southeast  region_southwest  \n",
       "0                 0                 1  \n",
       "1                 1                 0  \n",
       "2                 1                 0  \n",
       "3                 0                 0  \n",
       "4                 0                 0  "
      ]
     },
     "execution_count": 91,
     "metadata": {},
     "output_type": "execute_result"
    }
   ],
   "source": [
    "df_dum.head()"
   ]
  },
  {
   "cell_type": "code",
   "execution_count": 92,
   "id": "e2e6a890",
   "metadata": {},
   "outputs": [
    {
     "data": {
      "text/html": [
       "<div>\n",
       "<style scoped>\n",
       "    .dataframe tbody tr th:only-of-type {\n",
       "        vertical-align: middle;\n",
       "    }\n",
       "\n",
       "    .dataframe tbody tr th {\n",
       "        vertical-align: top;\n",
       "    }\n",
       "\n",
       "    .dataframe thead th {\n",
       "        text-align: right;\n",
       "    }\n",
       "</style>\n",
       "<table border=\"1\" class=\"dataframe\">\n",
       "  <thead>\n",
       "    <tr style=\"text-align: right;\">\n",
       "      <th></th>\n",
       "      <th>age</th>\n",
       "      <th>sex</th>\n",
       "      <th>bmi</th>\n",
       "      <th>children</th>\n",
       "      <th>smoker</th>\n",
       "      <th>charges</th>\n",
       "      <th>region_northwest</th>\n",
       "      <th>region_southeast</th>\n",
       "      <th>region_southwest</th>\n",
       "    </tr>\n",
       "  </thead>\n",
       "  <tbody>\n",
       "    <tr>\n",
       "      <th>count</th>\n",
       "      <td>1337.000000</td>\n",
       "      <td>1337.000000</td>\n",
       "      <td>1337.000000</td>\n",
       "      <td>1337.000000</td>\n",
       "      <td>1337.000000</td>\n",
       "      <td>1337.000000</td>\n",
       "      <td>1337.000000</td>\n",
       "      <td>1337.000000</td>\n",
       "      <td>1337.000000</td>\n",
       "    </tr>\n",
       "    <tr>\n",
       "      <th>mean</th>\n",
       "      <td>39.222139</td>\n",
       "      <td>0.504862</td>\n",
       "      <td>30.663452</td>\n",
       "      <td>1.095737</td>\n",
       "      <td>0.204936</td>\n",
       "      <td>13230.249307</td>\n",
       "      <td>0.242334</td>\n",
       "      <td>0.272251</td>\n",
       "      <td>0.243082</td>\n",
       "    </tr>\n",
       "    <tr>\n",
       "      <th>std</th>\n",
       "      <td>14.044333</td>\n",
       "      <td>0.500163</td>\n",
       "      <td>6.100468</td>\n",
       "      <td>1.205571</td>\n",
       "      <td>0.403806</td>\n",
       "      <td>11940.700792</td>\n",
       "      <td>0.428655</td>\n",
       "      <td>0.445285</td>\n",
       "      <td>0.429104</td>\n",
       "    </tr>\n",
       "    <tr>\n",
       "      <th>min</th>\n",
       "      <td>18.000000</td>\n",
       "      <td>0.000000</td>\n",
       "      <td>15.960000</td>\n",
       "      <td>0.000000</td>\n",
       "      <td>0.000000</td>\n",
       "      <td>1252.957440</td>\n",
       "      <td>0.000000</td>\n",
       "      <td>0.000000</td>\n",
       "      <td>0.000000</td>\n",
       "    </tr>\n",
       "    <tr>\n",
       "      <th>25%</th>\n",
       "      <td>27.000000</td>\n",
       "      <td>0.000000</td>\n",
       "      <td>26.290000</td>\n",
       "      <td>0.000000</td>\n",
       "      <td>0.000000</td>\n",
       "      <td>4746.344000</td>\n",
       "      <td>0.000000</td>\n",
       "      <td>0.000000</td>\n",
       "      <td>0.000000</td>\n",
       "    </tr>\n",
       "    <tr>\n",
       "      <th>50%</th>\n",
       "      <td>39.000000</td>\n",
       "      <td>1.000000</td>\n",
       "      <td>30.400000</td>\n",
       "      <td>1.000000</td>\n",
       "      <td>0.000000</td>\n",
       "      <td>9386.161300</td>\n",
       "      <td>0.000000</td>\n",
       "      <td>0.000000</td>\n",
       "      <td>0.000000</td>\n",
       "    </tr>\n",
       "    <tr>\n",
       "      <th>75%</th>\n",
       "      <td>51.000000</td>\n",
       "      <td>1.000000</td>\n",
       "      <td>34.700000</td>\n",
       "      <td>2.000000</td>\n",
       "      <td>0.000000</td>\n",
       "      <td>16657.717450</td>\n",
       "      <td>0.000000</td>\n",
       "      <td>1.000000</td>\n",
       "      <td>0.000000</td>\n",
       "    </tr>\n",
       "    <tr>\n",
       "      <th>max</th>\n",
       "      <td>64.000000</td>\n",
       "      <td>1.000000</td>\n",
       "      <td>53.130000</td>\n",
       "      <td>5.000000</td>\n",
       "      <td>1.000000</td>\n",
       "      <td>48537.796878</td>\n",
       "      <td>1.000000</td>\n",
       "      <td>1.000000</td>\n",
       "      <td>1.000000</td>\n",
       "    </tr>\n",
       "  </tbody>\n",
       "</table>\n",
       "</div>"
      ],
      "text/plain": [
       "               age          sex          bmi     children       smoker  \\\n",
       "count  1337.000000  1337.000000  1337.000000  1337.000000  1337.000000   \n",
       "mean     39.222139     0.504862    30.663452     1.095737     0.204936   \n",
       "std      14.044333     0.500163     6.100468     1.205571     0.403806   \n",
       "min      18.000000     0.000000    15.960000     0.000000     0.000000   \n",
       "25%      27.000000     0.000000    26.290000     0.000000     0.000000   \n",
       "50%      39.000000     1.000000    30.400000     1.000000     0.000000   \n",
       "75%      51.000000     1.000000    34.700000     2.000000     0.000000   \n",
       "max      64.000000     1.000000    53.130000     5.000000     1.000000   \n",
       "\n",
       "            charges  region_northwest  region_southeast  region_southwest  \n",
       "count   1337.000000       1337.000000       1337.000000       1337.000000  \n",
       "mean   13230.249307          0.242334          0.272251          0.243082  \n",
       "std    11940.700792          0.428655          0.445285          0.429104  \n",
       "min     1252.957440          0.000000          0.000000          0.000000  \n",
       "25%     4746.344000          0.000000          0.000000          0.000000  \n",
       "50%     9386.161300          0.000000          0.000000          0.000000  \n",
       "75%    16657.717450          0.000000          1.000000          0.000000  \n",
       "max    48537.796878          1.000000          1.000000          1.000000  "
      ]
     },
     "execution_count": 92,
     "metadata": {},
     "output_type": "execute_result"
    }
   ],
   "source": [
    "df_dum.describe()"
   ]
  },
  {
   "cell_type": "code",
   "execution_count": 93,
   "id": "5ad647e7",
   "metadata": {},
   "outputs": [
    {
     "data": {
      "text/plain": [
       "1    675\n",
       "0    662\n",
       "Name: sex, dtype: int64"
      ]
     },
     "execution_count": 93,
     "metadata": {},
     "output_type": "execute_result"
    }
   ],
   "source": [
    "df_dum['sex'].value_counts()\n",
    "# male      675\n",
    "# female    662"
   ]
  },
  {
   "cell_type": "code",
   "execution_count": 94,
   "id": "af0c1b1c",
   "metadata": {},
   "outputs": [
    {
     "data": {
      "text/plain": [
       "0    1063\n",
       "1     274\n",
       "Name: smoker, dtype: int64"
      ]
     },
     "execution_count": 94,
     "metadata": {},
     "output_type": "execute_result"
    }
   ],
   "source": [
    "df_dum['smoker'].value_counts()\n",
    "# no     1063\n",
    "# yes     274"
   ]
  },
  {
   "cell_type": "code",
   "execution_count": 95,
   "id": "5f87a5fa",
   "metadata": {},
   "outputs": [
    {
     "data": {
      "text/plain": [
       "0    573\n",
       "1    324\n",
       "2    240\n",
       "3    157\n",
       "4     25\n",
       "5     18\n",
       "Name: children, dtype: int64"
      ]
     },
     "execution_count": 95,
     "metadata": {},
     "output_type": "execute_result"
    }
   ],
   "source": [
    "df_dum['children'].value_counts()"
   ]
  },
  {
   "cell_type": "code",
   "execution_count": null,
   "id": "26435a36",
   "metadata": {},
   "outputs": [],
   "source": []
  }
 ],
 "metadata": {
  "kernelspec": {
   "display_name": "Python 3 (ipykernel)",
   "language": "python",
   "name": "python3"
  },
  "language_info": {
   "codemirror_mode": {
    "name": "ipython",
    "version": 3
   },
   "file_extension": ".py",
   "mimetype": "text/x-python",
   "name": "python",
   "nbconvert_exporter": "python",
   "pygments_lexer": "ipython3",
   "version": "3.9.13"
  }
 },
 "nbformat": 4,
 "nbformat_minor": 5
}
